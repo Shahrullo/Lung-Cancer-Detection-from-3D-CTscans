{
 "cells": [
  {
   "cell_type": "code",
   "execution_count": 1,
   "id": "4c3eea0c-4cac-4d5f-8225-d5e59b8ea799",
   "metadata": {},
   "outputs": [],
   "source": [
    "import datetime\n",
    "\n",
    "from util import importstr\n",
    "from logconf import logging\n",
    "\n",
    "log = logging.getLogger('nb')"
   ]
  },
  {
   "cell_type": "code",
   "execution_count": 2,
   "id": "d6f925b8-6697-497a-bb6a-8b2da6d3db35",
   "metadata": {},
   "outputs": [],
   "source": [
    "def run(app, *argv):\n",
    "    argv = list(argv)\n",
    "    argv.insert(0, '--num-workers=0')\n",
    "    log.info('Running: {}{!r}).main()'.format(app, argv))\n",
    "    \n",
    "    app_cls = importstr(*app.rsplit('.', 1))\n",
    "    app_cls(argv).main()\n",
    "    \n",
    "    log.info('Finished: {}.{!r}.main()'.format(app, argv))"
   ]
  },
  {
   "cell_type": "code",
   "execution_count": 3,
   "id": "bd504b6e-2d6a-4466-9ac1-eab2fe0b570e",
   "metadata": {},
   "outputs": [],
   "source": [
    "import os\n",
    "import shutil\n",
    "\n",
    "def cleanCache():\n",
    "    shutil.rmtree('D:LUNADataset/data-unversioned/cache')\n",
    "    os.mkdir('D:LUNADataset/data-unversioned/cache')\n",
    "    \n",
    "# cleanCache()"
   ]
  },
  {
   "cell_type": "code",
   "execution_count": 4,
   "id": "63e3816d-c31f-42a3-83d9-fa7b94f6ed41",
   "metadata": {},
   "outputs": [],
   "source": [
    "training_epochs = 20\n",
    "experiment_epochs = 10\n",
    "final_epochs = 50\n",
    "\n",
    "training_epochs = 2\n",
    "experiment_epochs = 2\n",
    "final_epochs = 5\n",
    "seg_epochs = 10"
   ]
  },
  {
   "cell_type": "code",
   "execution_count": 5,
   "id": "328edff0-e70b-4239-8405-3c84140f3d62",
   "metadata": {},
   "outputs": [],
   "source": [
    "# run('prepcache.LunaPrepCacheApp')"
   ]
  },
  {
   "cell_type": "code",
   "execution_count": 7,
   "id": "fc25a56b-d048-4739-bb49-a09dc886aea0",
   "metadata": {},
   "outputs": [
    {
     "name": "stderr",
     "output_type": "stream",
     "text": [
      "2021-10-28 14:02:55,632 INFO     pid:14036 nb:004:run Running: training.ClassificationTrainingApp['--num-workers=0', '--epochs=2', 'nodule-nonnodule']).main()\n",
      "2021-10-28 14:02:55,639 INFO     pid:14036 training:147:initModel Using CUDA; 1 devices.\n",
      "2021-10-28 14:02:58,361 INFO     pid:14036 training:215:main Starting ClassificationTrainingApp, Namespace(batch_size=24, comment='nodule-nonnodule', dataset='LunaDataset', epochs=2, finetune='', finetune_depth=1, malignant=False, model='LunaModel', num_workers=0, tb_prefix='p2ch14')\n",
      "2021-10-28 14:03:02,209 INFO     pid:14036 dsets1:280:__init__ <dsets1.LunaDataset object at 0x0000028CABEE4730>: 499313 training samples, 498285 neg, 1028 pos, 1:1 ratio\n",
      "2021-10-28 14:03:02,357 INFO     pid:14036 dsets1:280:__init__ <dsets1.LunaDataset object at 0x0000028D15C47D30>: 51583 validation samples, 51429 neg, 154 pos, unbalanced ratio\n",
      "2021-10-28 14:03:02,358 INFO     pid:14036 training:224:main Epoch 1 of 2, 2084/2150 batches of size 24*1\n",
      "2021-10-28 14:03:02,924 WARNING  pid:14036 util:228:enumerateWithEstimate E1 Training ----/2084, starting\n",
      "2021-10-28 14:03:50,495 INFO     pid:14036 util:245:enumerateWithEstimate E1 Training    4/2084, done at 2021-10-28 19:33:30, 5:30:27\n",
      "2021-10-28 14:05:29,568 INFO     pid:14036 util:245:enumerateWithEstimate E1 Training   16/2084, done at 2021-10-28 19:02:39, 4:59:36\n",
      "2021-10-28 14:12:31,410 INFO     pid:14036 util:245:enumerateWithEstimate E1 Training   64/2084, done at 2021-10-28 19:06:49, 5:03:46\n",
      "2021-10-28 14:39:57,965 INFO     pid:14036 util:245:enumerateWithEstimate E1 Training  256/2084, done at 2021-10-28 19:02:24, 4:59:21\n",
      "2021-10-28 16:30:40,143 INFO     pid:14036 util:245:enumerateWithEstimate E1 Training 1024/2084, done at 2021-10-28 19:03:11, 5:00:08\n",
      "2021-10-28 19:03:37,395 WARNING  pid:14036 util:258:enumerateWithEstimate E1 Training ----/2084, done at 2021-10-28 19:03:37\n",
      "2021-10-28 19:03:37,444 INFO     pid:14036 training:352:logMetrics E1 ClassificationTrainingApp\n",
      "C:\\Users\\Shahrullohon\\Desktop\\Lung Cancer Detection form 3D CT scans\\training.py:417: UserWarning: Not providing a value for linspace's steps is deprecated and will throw a runtime error in a future release. This warning will appear only once per process. (Triggered internally at  ..\\aten\\src\\ATen\\native\\RangeFactories.cpp:25.)\n",
      "  threshold = torch.linspace(1, 0)\n",
      "2021-10-28 19:03:37,483 INFO     pid:14036 training:425:logMetrics E1 trn      0.5420 loss,  72.4% correct, 0.7416 precision, 0.6866 recall, 0.7130 f1 score, 0.7989 auc\n",
      "2021-10-28 19:03:37,484 INFO     pid:14036 training:438:logMetrics E1 trn_neg  0.5272 loss,  76.1% correct (19019 of 25000)\n",
      "2021-10-28 19:03:37,485 INFO     pid:14036 training:449:logMetrics E1 trn_pos  0.5568 loss,  68.7% correct (17164 of 25000)\n",
      "2021-10-28 19:03:37,641 WARNING  pid:14036 util:228:enumerateWithEstimate E1 Validation  ----/2150, starting\n",
      "2021-10-28 19:03:38,334 INFO     pid:14036 util:245:enumerateWithEstimate E1 Validation     4/2150, done at 2021-10-28 19:08:35, 0:04:58\n",
      "2021-10-28 19:03:39,925 INFO     pid:14036 util:245:enumerateWithEstimate E1 Validation    16/2150, done at 2021-10-28 19:08:26, 0:04:48\n",
      "2021-10-28 19:03:45,939 INFO     pid:14036 util:245:enumerateWithEstimate E1 Validation    64/2150, done at 2021-10-28 19:08:12, 0:04:34\n",
      "2021-10-28 19:04:09,645 INFO     pid:14036 util:245:enumerateWithEstimate E1 Validation   256/2150, done at 2021-10-28 19:08:05, 0:04:27\n",
      "2021-10-28 19:05:42,709 INFO     pid:14036 util:245:enumerateWithEstimate E1 Validation  1024/2150, done at 2021-10-28 19:07:59, 0:04:22\n",
      "2021-10-28 19:07:54,584 WARNING  pid:14036 util:258:enumerateWithEstimate E1 Validation  ----/2150, done at 2021-10-28 19:07:54\n",
      "2021-10-28 19:07:54,586 INFO     pid:14036 training:352:logMetrics E1 ClassificationTrainingApp\n",
      "2021-10-28 19:07:54,599 INFO     pid:14036 training:425:logMetrics E1 val      0.2930 loss,  91.2% correct, 0.0252 precision, 0.7597 recall, 0.0489 f1 score, 0.8806 auc\n",
      "2021-10-28 19:07:54,599 INFO     pid:14036 training:438:logMetrics E1 val_neg  0.2922 loss,  91.2% correct (46912 of 51429)\n",
      "2021-10-28 19:07:54,600 INFO     pid:14036 training:449:logMetrics E1 val_pos  0.5733 loss,  76.0% correct (117 of 154)\n",
      "2021-10-28 19:07:54,674 DEBUG    pid:14036 training:526:saveModel Saved model params to data-unversioned\\part2\\models\\p2ch14\\cls_2021-10-28_14.02.55_nodule-nonnodule.50000.state\n",
      "2021-10-28 19:07:54,684 DEBUG    pid:14036 training:543:saveModel Saved model params to data-unversioned\\part2\\models\\p2ch14\\cls_2021-10-28_14.02.55_nodule-nonnodule.best.state\n",
      "2021-10-28 19:07:54,686 INFO     pid:14036 training:546:saveModel SHA1: 60243776039f2c9c26743c188359c3d1e6bf239c\n",
      "2021-10-28 19:07:54,687 INFO     pid:14036 training:224:main Epoch 2 of 2, 2084/2150 batches of size 24*1\n",
      "2021-10-28 19:07:55,336 WARNING  pid:14036 util:228:enumerateWithEstimate E2 Training ----/2084, starting\n",
      "2021-10-28 19:08:33,781 INFO     pid:14036 util:245:enumerateWithEstimate E2 Training    4/2084, done at 2021-10-28 23:34:58, 4:27:03\n",
      "2021-10-28 19:10:08,607 INFO     pid:14036 util:245:enumerateWithEstimate E2 Training   16/2084, done at 2021-10-28 23:40:12, 4:32:17\n",
      "2021-10-28 19:16:48,900 INFO     pid:14036 util:245:enumerateWithEstimate E2 Training   64/2084, done at 2021-10-28 23:53:02, 4:45:06\n",
      "2021-10-28 19:43:25,630 INFO     pid:14036 util:245:enumerateWithEstimate E2 Training  256/2084, done at 2021-10-28 23:55:49, 4:47:54\n",
      "2021-10-28 21:27:00,104 INFO     pid:14036 util:245:enumerateWithEstimate E2 Training 1024/2084, done at 2021-10-28 23:50:41, 4:42:46\n",
      "2021-10-28 23:49:02,079 WARNING  pid:14036 util:258:enumerateWithEstimate E2 Training ----/2084, done at 2021-10-28 23:49:02\n",
      "2021-10-28 23:49:02,264 INFO     pid:14036 training:352:logMetrics E2 ClassificationTrainingApp\n",
      "2021-10-28 23:49:02,278 INFO     pid:14036 training:425:logMetrics E2 trn      0.3683 loss,  84.2% correct, 0.8686 precision, 0.8060 recall, 0.8361 f1 score, 0.9104 auc\n",
      "2021-10-28 23:49:02,278 INFO     pid:14036 training:438:logMetrics E2 trn_neg  0.3278 loss,  87.8% correct (21952 of 25000)\n",
      "2021-10-28 23:49:02,279 INFO     pid:14036 training:449:logMetrics E2 trn_pos  0.4089 loss,  80.6% correct (20150 of 25000)\n",
      "2021-10-28 23:49:02,509 INFO     pid:14036 nb:009:run Finished: training.ClassificationTrainingApp.['--num-workers=0', '--epochs=2', 'nodule-nonnodule'].main()\n"
     ]
    }
   ],
   "source": [
    "run('training.ClassificationTrainingApp', f'--epochs=2', 'nodule-nonnodule')"
   ]
  },
  {
   "cell_type": "code",
   "execution_count": null,
   "id": "9004c16b-4213-4f77-94a5-05be8e984475",
   "metadata": {},
   "outputs": [],
   "source": []
  }
 ],
 "metadata": {
  "kernelspec": {
   "display_name": "Python 3 (ipykernel)",
   "language": "python",
   "name": "python3"
  },
  "language_info": {
   "codemirror_mode": {
    "name": "ipython",
    "version": 3
   },
   "file_extension": ".py",
   "mimetype": "text/x-python",
   "name": "python",
   "nbconvert_exporter": "python",
   "pygments_lexer": "ipython3",
   "version": "3.8.11"
  }
 },
 "nbformat": 4,
 "nbformat_minor": 5
}
